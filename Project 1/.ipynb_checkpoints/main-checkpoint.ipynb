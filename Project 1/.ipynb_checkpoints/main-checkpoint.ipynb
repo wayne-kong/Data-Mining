{
 "cells": [
  {
   "cell_type": "code",
   "execution_count": 1,
   "metadata": {},
   "outputs": [],
   "source": [
    "import pandas as pd\n",
    "# import datetime"
   ]
  },
  {
   "cell_type": "code",
   "execution_count": 2,
   "metadata": {},
   "outputs": [
    {
     "name": "stdout",
     "output_type": "stream",
     "text": [
      "2017-08-09 08:07:13\n"
     ]
    }
   ],
   "source": [
    "CGMData_df = pd.read_csv('CGMData.csv', parse_dates=[['Date', 'Time']],index_col='Date_Time', low_memory=False)\n",
    "InsulinData_df = pd.read_csv('InsulinData.csv', parse_dates=[['Date', 'Time']], index_col='Date_Time', low_memory=False)\n",
    "\n",
    "# Reverse dataframe to straight the date time order\n",
    "CGMData_df = CGMData_df.iloc[::-1]\n",
    "InsulinData_df = InsulinData_df.iloc[::-1]\n",
    "\n",
    "# Find auto mode start date\n",
    "filt = InsulinData_df['Alarm'] =='AUTO MODE ACTIVE PLGM OFF'\n",
    "AutoModeStartDate = InsulinData_df.loc[filt].index[0]\n",
    "# AutoModeStartDate = AutoModeStartDate.date()\n",
    "\n",
    "# Split CGMData to Auto mode and Manual Mode\n",
    "CGM_Manual_df = CGMData_df.loc[CGMData_df.index < AutoModeStartDate][['Sensor Glucose (mg/dL)']]\n",
    "CGM_Auto_df = CGMData_df.loc[CGMData_df.index >= AutoModeStartDate][['Sensor Glucose (mg/dL)']]\n",
    "\n",
    "# CGM_Manual_df = CGMData_df.loc[CGMData_df.index.date < AutoModeStartDate][['Sensor Glucose (mg/dL)']]\n",
    "# CGM_Auto_df = CGMData_df.loc[CGMData_df.index.date >= AutoModeStartDate][['Sensor Glucose (mg/dL)']]\n",
    "\n",
    "# Remove Date_Time index \n",
    "CGM_Auto_df.reset_index(inplace=True)\n",
    "CGM_Manual_df.reset_index(inplace=True)\n",
    "\n",
    "print(AutoModeStartDate)"
   ]
  },
  {
   "cell_type": "code",
   "execution_count": 3,
   "metadata": {},
   "outputs": [],
   "source": [
    "# AutoModeStartDate = AutoModeStartDate.date()\n",
    "# print(AutoModeStartDate)"
   ]
  },
  {
   "cell_type": "code",
   "execution_count": 4,
   "metadata": {},
   "outputs": [],
   "source": [
    "# CGM_Auto_df['Sensor Glucose (mg/dL)']"
   ]
  },
  {
   "cell_type": "code",
   "execution_count": 5,
   "metadata": {},
   "outputs": [],
   "source": [
    "# CGM_Manual_df['Sensor Glucose (mg/dL)'].unique()"
   ]
  },
  {
   "cell_type": "code",
   "execution_count": 6,
   "metadata": {},
   "outputs": [],
   "source": [
    "# CGM_Auto_df['Sensor Glucose (mg/dL)'].unique()"
   ]
  },
  {
   "cell_type": "code",
   "execution_count": 7,
   "metadata": {},
   "outputs": [],
   "source": [
    "# Remove missing data from 'Sensor Glucose (mg/dL)' column\n",
    "# CGM_Auto_df.dropna(subset=['Sensor Glucose (mg/dL)'],inplace=True)\n",
    "# CGM_Manual_df.dropna(subset=['Sensor Glucose (mg/dL)'],inplace=True)\n",
    "\n",
    "CGM_Auto_df = CGM_Auto_df[CGM_Auto_df['Sensor Glucose (mg/dL)'].notna()]\n",
    "CGM_Manual_df = CGM_Manual_df[CGM_Manual_df['Sensor Glucose (mg/dL)'].notna()]"
   ]
  },
  {
   "cell_type": "code",
   "execution_count": 8,
   "metadata": {},
   "outputs": [],
   "source": [
    "# pd.set_option('display.Max_rows', 3894)\n",
    "# CGM_Manual_df['Sensor Glucose (mg/dL)'].unique()"
   ]
  },
  {
   "cell_type": "code",
   "execution_count": 9,
   "metadata": {},
   "outputs": [],
   "source": [
    "# Group data by date\n",
    "CGM_Auto_df_grp_date = CGM_Auto_df.groupby(CGM_Auto_df['Date_Time'].dt.date)\n",
    "CGM_Manual_df_grp_date = CGM_Manual_df.groupby(CGM_Manual_df['Date_Time'].dt.date)\n",
    "\n",
    "# Remove daily data count less than 80% and greater than 288\n",
    "# wholeday_Auto_df = CGM_Auto_df_grp_date.filter(lambda x: (x['Sensor Glucose (mg/dL)'].count()>=230) & (x['Sensor Glucose (mg/dL)'].count()<=288))\n",
    "# wholeday_Manual_df = CGM_Manual_df_grp_date.filter(lambda x: (x['Sensor Glucose (mg/dL)'].count()>=230) & (x['Sensor Glucose (mg/dL)'].count()<=288))\n",
    "\n",
    "wholeday_Auto_df = CGM_Auto_df_grp_date.filter(lambda x: (x['Date_Time'].count()>=230) & (x['Date_Time'].count()<=288))\n",
    "wholeday_Manual_df = CGM_Manual_df_grp_date.filter(lambda x: (x['Date_Time'].count()>=230) & (x['Date_Time'].count()<=288))\n"
   ]
  },
  {
   "cell_type": "code",
   "execution_count": 10,
   "metadata": {},
   "outputs": [],
   "source": [
    "wholeday_Auto_df_grp = wholeday_Auto_df.groupby(wholeday_Auto_df['Date_Time'].dt.date)\n",
    "wholeday_Manual_df_grp = wholeday_Manual_df.groupby(wholeday_Manual_df['Date_Time'].dt.date)\n",
    "# wholeday_Auto_df_grp.size()"
   ]
  },
  {
   "cell_type": "code",
   "execution_count": 11,
   "metadata": {},
   "outputs": [
    {
     "name": "stdout",
     "output_type": "stream",
     "text": [
      "152 12 164\n"
     ]
    }
   ],
   "source": [
    "totalAutoModeDays = wholeday_Auto_df_grp.count().shape[0]\n",
    "totalManualModeDays = wholeday_Manual_df_grp.count().shape[0]\n",
    "totalDays = totalAutoModeDays + totalManualModeDays\n",
    "print(totalAutoModeDays, totalManualModeDays, totalDays)"
   ]
  },
  {
   "cell_type": "code",
   "execution_count": 12,
   "metadata": {
    "scrolled": true
   },
   "outputs": [],
   "source": [
    "# wholeday_Auto_df_grp.size().value_counts().sort_values()"
   ]
  },
  {
   "cell_type": "code",
   "execution_count": 13,
   "metadata": {},
   "outputs": [],
   "source": [
    "# wholeday_Manual_df_grp.count().min()\n",
    "# wholeday_Auto_df_grp.get_group('2017-08-09')"
   ]
  },
  {
   "cell_type": "code",
   "execution_count": 14,
   "metadata": {
    "scrolled": false
   },
   "outputs": [],
   "source": [
    "# pd.set_option('display.max_rows', 65)\n",
    "# CGM_Auto_df_grp_date.size().value_counts().sort_values()\n",
    "# # CGM_Manual_df_grp_date.size().value_counts().sort_values()"
   ]
  },
  {
   "cell_type": "code",
   "execution_count": 15,
   "metadata": {},
   "outputs": [],
   "source": [
    "wholeday_Auto_PercentSum = [0, 0, 0, 0, 0, 0] \n",
    "wholeday_Manual_PercentSum = [0, 0, 0, 0, 0, 0]\n",
    "overnight_Auto_PercentSum = [0, 0, 0, 0, 0, 0] \n",
    "overnight_Manual_PercentSum = [0, 0, 0, 0, 0, 0] \n",
    "day_Auto_PercentSum = [0, 0, 0, 0, 0, 0]\n",
    "day_Manual_PercentSum = [0, 0, 0, 0, 0, 0] "
   ]
  },
  {
   "cell_type": "code",
   "execution_count": 16,
   "metadata": {},
   "outputs": [],
   "source": [
    "for name, group in wholeday_Auto_df_grp:\n",
    "\n",
    "    wholeday_Auto_PercentSum[0] += (group[group['Sensor Glucose (mg/dL)']>180].count()[1])*100/(group['Sensor Glucose (mg/dL)'].count())\n",
    "    wholeday_Auto_PercentSum[1] += (group[group['Sensor Glucose (mg/dL)']>250].count()[1])*100/(group['Sensor Glucose (mg/dL)'].count())\n",
    "    wholeday_Auto_PercentSum[2] += (group[(group['Sensor Glucose (mg/dL)']>=70) & (group['Sensor Glucose (mg/dL)']<=180)].count()[1])*100/(group['Sensor Glucose (mg/dL)'].count())\n",
    "    wholeday_Auto_PercentSum[3] += (group[(group['Sensor Glucose (mg/dL)']>=70) & (group['Sensor Glucose (mg/dL)']<=150)].count()[1])*100/(group['Sensor Glucose (mg/dL)'].count())\n",
    "    wholeday_Auto_PercentSum[4] += (group[group['Sensor Glucose (mg/dL)']<70].count()[1])*100/(group['Sensor Glucose (mg/dL)'].count())\n",
    "    wholeday_Auto_PercentSum[5] += (group[group['Sensor Glucose (mg/dL)']<54].count()[1])*100/(group['Sensor Glucose (mg/dL)'].count())\n",
    "                                          \n",
    "    overnight_Auto_df = group.loc[(group['Date_Time'].dt.time>=pd.to_datetime('00:00:00').time()) & (group['Date_Time'].dt.time<pd.to_datetime('06:00:00').time())]\n",
    "    overnight_Auto_PercentSum[0] += (overnight_Auto_df[overnight_Auto_df['Sensor Glucose (mg/dL)']>180].count()[1])*100/(overnight_Auto_df['Sensor Glucose (mg/dL)'].count())\n",
    "    overnight_Auto_PercentSum[1] += (overnight_Auto_df[overnight_Auto_df['Sensor Glucose (mg/dL)']>250].count()[1])*100/(overnight_Auto_df['Sensor Glucose (mg/dL)'].count())\n",
    "    overnight_Auto_PercentSum[2] += (overnight_Auto_df[(overnight_Auto_df['Sensor Glucose (mg/dL)']>=70) & (overnight_Auto_df['Sensor Glucose (mg/dL)']<=180)].count()[1])*100/(overnight_Auto_df['Sensor Glucose (mg/dL)'].count())\n",
    "    overnight_Auto_PercentSum[3] += (overnight_Auto_df[(overnight_Auto_df['Sensor Glucose (mg/dL)']>=70) & (overnight_Auto_df['Sensor Glucose (mg/dL)']<=150)].count()[1])*100/(overnight_Auto_df['Sensor Glucose (mg/dL)'].count())\n",
    "    overnight_Auto_PercentSum[4] += (overnight_Auto_df[overnight_Auto_df['Sensor Glucose (mg/dL)']<70].count()[1])*100/(overnight_Auto_df['Sensor Glucose (mg/dL)'].count())\n",
    "    overnight_Auto_PercentSum[5] += (overnight_Auto_df[overnight_Auto_df['Sensor Glucose (mg/dL)']<54].count()[1])*100/(overnight_Auto_df['Sensor Glucose (mg/dL)'].count())\n",
    "    \n",
    "    day_Auto_df = group.loc[(group['Date_Time'].dt.time>=pd.to_datetime('06:00:00').time()) & (group['Date_Time'].dt.time<pd.to_datetime('23:59:59').time())]\n",
    "    day_Auto_PercentSum[0] += (day_Auto_df[day_Auto_df['Sensor Glucose (mg/dL)']>180].count()[1])*100/(day_Auto_df['Sensor Glucose (mg/dL)'].count())\n",
    "    day_Auto_PercentSum[1] += (day_Auto_df[day_Auto_df['Sensor Glucose (mg/dL)']>250].count()[1])*100/(day_Auto_df['Sensor Glucose (mg/dL)'].count())\n",
    "    day_Auto_PercentSum[2] += (day_Auto_df[(day_Auto_df['Sensor Glucose (mg/dL)']>=70) & (day_Auto_df['Sensor Glucose (mg/dL)']<=180)].count()[1])*100/(day_Auto_df['Sensor Glucose (mg/dL)'].count())\n",
    "    day_Auto_PercentSum[3] += (day_Auto_df[(day_Auto_df['Sensor Glucose (mg/dL)']>=70) & (day_Auto_df['Sensor Glucose (mg/dL)']<=150)].count()[1])*100/(day_Auto_df['Sensor Glucose (mg/dL)'].count())\n",
    "    day_Auto_PercentSum[4] += (day_Auto_df[day_Auto_df['Sensor Glucose (mg/dL)']<70].count()[1])*100/(day_Auto_df['Sensor Glucose (mg/dL)'].count())\n",
    "    day_Auto_PercentSum[5] += (day_Auto_df[day_Auto_df['Sensor Glucose (mg/dL)']<54].count()[1])*100/(day_Auto_df['Sensor Glucose (mg/dL)'].count())\n",
    "    "
   ]
  },
  {
   "cell_type": "code",
   "execution_count": 17,
   "metadata": {},
   "outputs": [],
   "source": [
    "for name, group in wholeday_Manual_df_grp:\n",
    "\n",
    "    wholeday_Manual_PercentSum[0] += (group[group['Sensor Glucose (mg/dL)']>180].count()[1])*100/(group['Sensor Glucose (mg/dL)'].count())\n",
    "    wholeday_Manual_PercentSum[1] += (group[group['Sensor Glucose (mg/dL)']>250].count()[1])*100/(group['Sensor Glucose (mg/dL)'].count())\n",
    "    wholeday_Manual_PercentSum[2] += (group[(group['Sensor Glucose (mg/dL)']>=70) & (group['Sensor Glucose (mg/dL)']<=180)].count()[1])*100/(group['Sensor Glucose (mg/dL)'].count())\n",
    "    wholeday_Manual_PercentSum[3] += (group[(group['Sensor Glucose (mg/dL)']>=70) & (group['Sensor Glucose (mg/dL)']<=150)].count()[1])*100/(group['Sensor Glucose (mg/dL)'].count())\n",
    "    wholeday_Manual_PercentSum[4] += (group[group['Sensor Glucose (mg/dL)']<70].count()[1])*100/(group['Sensor Glucose (mg/dL)'].count())\n",
    "    wholeday_Manual_PercentSum[5] += (group[group['Sensor Glucose (mg/dL)']<54].count()[1])*100/(group['Sensor Glucose (mg/dL)'].count())\n",
    "                                          \n",
    "    overnight_Manual_df = group.loc[(group['Date_Time'].dt.time>=pd.to_datetime('00:00:00').time()) & (group['Date_Time'].dt.time<pd.to_datetime('06:00:00').time())]\n",
    "    overnight_Manual_PercentSum[0] += (overnight_Manual_df[overnight_Manual_df['Sensor Glucose (mg/dL)']>180].count()[1])*100/(overnight_Manual_df['Sensor Glucose (mg/dL)'].count())\n",
    "    overnight_Manual_PercentSum[1] += (overnight_Manual_df[overnight_Manual_df['Sensor Glucose (mg/dL)']>250].count()[1])*100/(overnight_Manual_df['Sensor Glucose (mg/dL)'].count())\n",
    "    overnight_Manual_PercentSum[2] += (overnight_Manual_df[(overnight_Manual_df['Sensor Glucose (mg/dL)']>=70) & (overnight_Manual_df['Sensor Glucose (mg/dL)']<=180)].count()[1])*100/(overnight_Manual_df['Sensor Glucose (mg/dL)'].count())\n",
    "    overnight_Manual_PercentSum[3] += (overnight_Manual_df[(overnight_Manual_df['Sensor Glucose (mg/dL)']>=70) & (overnight_Manual_df['Sensor Glucose (mg/dL)']<=150)].count()[1])*100/(overnight_Manual_df['Sensor Glucose (mg/dL)'].count())\n",
    "    overnight_Manual_PercentSum[4] += (overnight_Manual_df[overnight_Manual_df['Sensor Glucose (mg/dL)']<70].count()[1])*100/(overnight_Manual_df['Sensor Glucose (mg/dL)'].count())\n",
    "    overnight_Manual_PercentSum[5] += (overnight_Manual_df[overnight_Manual_df['Sensor Glucose (mg/dL)']<54].count()[1])*100/(overnight_Manual_df['Sensor Glucose (mg/dL)'].count())\n",
    "    \n",
    "    day_Manual_df = group.loc[(group['Date_Time'].dt.time>=pd.to_datetime('06:00:00').time()) & (group['Date_Time'].dt.time<pd.to_datetime('23:59:59').time())]\n",
    "    day_Manual_PercentSum[0] += (day_Manual_df[day_Manual_df['Sensor Glucose (mg/dL)']>180].count()[1])*100/(day_Manual_df['Sensor Glucose (mg/dL)'].count())\n",
    "    day_Manual_PercentSum[1] += (day_Manual_df[day_Manual_df['Sensor Glucose (mg/dL)']>250].count()[1])*100/(day_Manual_df['Sensor Glucose (mg/dL)'].count())\n",
    "    day_Manual_PercentSum[2] += (day_Manual_df[(day_Manual_df['Sensor Glucose (mg/dL)']>=70) & (day_Manual_df['Sensor Glucose (mg/dL)']<=180)].count()[1])*100/(day_Manual_df['Sensor Glucose (mg/dL)'].count())\n",
    "    day_Manual_PercentSum[3] += (day_Manual_df[(day_Manual_df['Sensor Glucose (mg/dL)']>=70) & (day_Manual_df['Sensor Glucose (mg/dL)']<=150)].count()[1])*100/(day_Manual_df['Sensor Glucose (mg/dL)'].count())\n",
    "    day_Manual_PercentSum[4] += (day_Manual_df[day_Manual_df['Sensor Glucose (mg/dL)']<70].count()[1])*100/(day_Manual_df['Sensor Glucose (mg/dL)'].count())\n",
    "    day_Manual_PercentSum[5] += (day_Manual_df[day_Manual_df['Sensor Glucose (mg/dL)']<54].count()[1])*100/(day_Manual_df['Sensor Glucose (mg/dL)'].count())\n",
    "    "
   ]
  },
  {
   "cell_type": "code",
   "execution_count": 18,
   "metadata": {},
   "outputs": [
    {
     "data": {
      "text/html": [
       "<div>\n",
       "<style scoped>\n",
       "    .dataframe tbody tr th:only-of-type {\n",
       "        vertical-align: middle;\n",
       "    }\n",
       "\n",
       "    .dataframe tbody tr th {\n",
       "        vertical-align: top;\n",
       "    }\n",
       "\n",
       "    .dataframe thead th {\n",
       "        text-align: right;\n",
       "    }\n",
       "</style>\n",
       "<table border=\"1\" class=\"dataframe\">\n",
       "  <thead>\n",
       "    <tr style=\"text-align: right;\">\n",
       "      <th></th>\n",
       "      <th>1</th>\n",
       "      <th>2</th>\n",
       "      <th>3</th>\n",
       "      <th>4</th>\n",
       "      <th>5</th>\n",
       "      <th>6</th>\n",
       "      <th>7</th>\n",
       "      <th>8</th>\n",
       "      <th>9</th>\n",
       "      <th>10</th>\n",
       "      <th>11</th>\n",
       "      <th>12</th>\n",
       "      <th>13</th>\n",
       "      <th>14</th>\n",
       "      <th>15</th>\n",
       "      <th>16</th>\n",
       "      <th>17</th>\n",
       "      <th>18</th>\n",
       "    </tr>\n",
       "  </thead>\n",
       "  <tbody>\n",
       "    <tr>\n",
       "      <td>Manual Mode</td>\n",
       "      <td>16.767663</td>\n",
       "      <td>3.356481</td>\n",
       "      <td>79.849773</td>\n",
       "      <td>60.208204</td>\n",
       "      <td>3.382564</td>\n",
       "      <td>0.000000</td>\n",
       "      <td>37.482370</td>\n",
       "      <td>13.391150</td>\n",
       "      <td>57.401464</td>\n",
       "      <td>44.751060</td>\n",
       "      <td>5.116166</td>\n",
       "      <td>2.328294</td>\n",
       "      <td>32.142205</td>\n",
       "      <td>10.806583</td>\n",
       "      <td>63.139373</td>\n",
       "      <td>48.767337</td>\n",
       "      <td>4.718423</td>\n",
       "      <td>1.765956</td>\n",
       "    </tr>\n",
       "    <tr>\n",
       "      <td>Auto Mode</td>\n",
       "      <td>11.843733</td>\n",
       "      <td>1.782660</td>\n",
       "      <td>85.401437</td>\n",
       "      <td>74.273860</td>\n",
       "      <td>2.754830</td>\n",
       "      <td>0.664738</td>\n",
       "      <td>28.788034</td>\n",
       "      <td>6.806782</td>\n",
       "      <td>66.213591</td>\n",
       "      <td>49.541754</td>\n",
       "      <td>4.998375</td>\n",
       "      <td>1.549188</td>\n",
       "      <td>24.470102</td>\n",
       "      <td>5.554928</td>\n",
       "      <td>71.131939</td>\n",
       "      <td>55.867248</td>\n",
       "      <td>4.397959</td>\n",
       "      <td>1.327823</td>\n",
       "    </tr>\n",
       "  </tbody>\n",
       "</table>\n",
       "</div>"
      ],
      "text/plain": [
       "                     1         2          3          4         5         6  \\\n",
       "Manual Mode  16.767663  3.356481  79.849773  60.208204  3.382564  0.000000   \n",
       "Auto Mode    11.843733  1.782660  85.401437  74.273860  2.754830  0.664738   \n",
       "\n",
       "                     7          8          9         10        11        12  \\\n",
       "Manual Mode  37.482370  13.391150  57.401464  44.751060  5.116166  2.328294   \n",
       "Auto Mode    28.788034   6.806782  66.213591  49.541754  4.998375  1.549188   \n",
       "\n",
       "                    13         14         15         16        17        18  \n",
       "Manual Mode  32.142205  10.806583  63.139373  48.767337  4.718423  1.765956  \n",
       "Auto Mode    24.470102   5.554928  71.131939  55.867248  4.397959  1.327823  "
      ]
     },
     "execution_count": 18,
     "metadata": {},
     "output_type": "execute_result"
    }
   ],
   "source": [
    "result = {\n",
    "    \n",
    "'1':[overnight_Manual_PercentSum[0]/totalManualModeDays,overnight_Auto_PercentSum[0]/totalAutoModeDays],\n",
    "    \n",
    "'2':[overnight_Manual_PercentSum[1]/totalManualModeDays,overnight_Auto_PercentSum[1]/totalAutoModeDays],\n",
    "    \n",
    "'3':[overnight_Manual_PercentSum[2]/totalManualModeDays,overnight_Auto_PercentSum[2]/totalAutoModeDays],\n",
    "\n",
    "'4':[overnight_Manual_PercentSum[3]/totalManualModeDays,overnight_Auto_PercentSum[3]/totalAutoModeDays],\n",
    "    \n",
    "'5':[overnight_Manual_PercentSum[4]/totalManualModeDays,overnight_Auto_PercentSum[4]/totalAutoModeDays],\n",
    "\n",
    "'6':[overnight_Manual_PercentSum[5]/totalManualModeDays,overnight_Auto_PercentSum[5]/totalAutoModeDays],\n",
    "\n",
    "    \n",
    "'7':[day_Manual_PercentSum[0]/totalManualModeDays,day_Auto_PercentSum[0]/totalAutoModeDays],\n",
    "    \n",
    "'8':[day_Manual_PercentSum[1]/totalManualModeDays,day_Auto_PercentSum[1]/totalAutoModeDays],\n",
    "    \n",
    "'9':[day_Manual_PercentSum[2]/totalManualModeDays,day_Auto_PercentSum[2]/totalAutoModeDays],\n",
    "\n",
    "'10':[day_Manual_PercentSum[3]/totalManualModeDays,day_Auto_PercentSum[3]/totalAutoModeDays],\n",
    "\n",
    "'11':[day_Manual_PercentSum[4]/totalManualModeDays,day_Auto_PercentSum[4]/totalAutoModeDays],\n",
    "\n",
    "'12':[day_Manual_PercentSum[5]/totalManualModeDays,day_Auto_PercentSum[5]/totalAutoModeDays],\n",
    "\n",
    "\n",
    "'13':[wholeday_Manual_PercentSum[0]/totalManualModeDays,wholeday_Auto_PercentSum[0]/totalAutoModeDays],\n",
    "\n",
    "'14':[wholeday_Manual_PercentSum[1]/totalManualModeDays,wholeday_Auto_PercentSum[1]/totalAutoModeDays],\n",
    "   \n",
    "'15':[wholeday_Manual_PercentSum[2]/totalManualModeDays,wholeday_Auto_PercentSum[2]/totalAutoModeDays],\n",
    "\n",
    "'16':[wholeday_Manual_PercentSum[3]/totalManualModeDays,wholeday_Auto_PercentSum[3]/totalAutoModeDays],\n",
    "\n",
    "'17':[wholeday_Manual_PercentSum[4]/totalManualModeDays,wholeday_Auto_PercentSum[4]/totalAutoModeDays],\n",
    "\n",
    "'18':[wholeday_Manual_PercentSum[5]/totalManualModeDays,wholeday_Auto_PercentSum[5]/totalAutoModeDays],\n",
    " \n",
    "}\n",
    "\n",
    "result_df = pd.DataFrame(result, index =['Manual Mode', 'Auto Mode'])\n",
    "result_df\n",
    "# # result_df.to_csv('Results.csv', index=False, header=False)"
   ]
  },
  {
   "cell_type": "code",
   "execution_count": 19,
   "metadata": {},
   "outputs": [],
   "source": [
    "# result = {\n",
    "    \n",
    "# '1':[overnight_Manual_PercentSum[0]/totalDays,overnight_Auto_PercentSum[0]/totalDays],\n",
    "    \n",
    "# '2':[overnight_Manual_PercentSum[1]/totalDays,overnight_Auto_PercentSum[1]/totalDays],\n",
    "    \n",
    "# '3':[overnight_Manual_PercentSum[2]/totalDays,overnight_Auto_PercentSum[2]/totalDays],\n",
    "\n",
    "# '4':[overnight_Manual_PercentSum[3]/totalDays,overnight_Auto_PercentSum[3]/totalDays],\n",
    "    \n",
    "# '5':[overnight_Manual_PercentSum[4]/totalDays,overnight_Auto_PercentSum[4]/totalDays],\n",
    "\n",
    "# '6':[overnight_Manual_PercentSum[5]/totalDays,overnight_Auto_PercentSum[5]/totalDays],\n",
    "\n",
    "    \n",
    "# '7':[day_Manual_PercentSum[0]/totalDays,day_Auto_PercentSum[0]/totalDays],\n",
    "    \n",
    "# '8':[day_Manual_PercentSum[1]/totalDays,day_Auto_PercentSum[1]/totalDays],\n",
    "    \n",
    "# '9':[day_Manual_PercentSum[2]/totalDays,day_Auto_PercentSum[2]/totalDays],\n",
    "\n",
    "# '10':[day_Manual_PercentSum[3]/totalDays,day_Auto_PercentSum[3]/totalDays],\n",
    "\n",
    "# '11':[day_Manual_PercentSum[4]/totalDays,day_Auto_PercentSum[4]/totalDays],\n",
    "\n",
    "# '12':[day_Manual_PercentSum[5]/totalDays,day_Auto_PercentSum[5]/totalDays],\n",
    "\n",
    "\n",
    "# '13':[wholeday_Manual_PercentSum[0]/totalDays,wholeday_Auto_PercentSum[0]/totalDays],\n",
    "\n",
    "# '14':[wholeday_Manual_PercentSum[1]/totalDays,wholeday_Auto_PercentSum[1]/totalDays],\n",
    "   \n",
    "# '15':[wholeday_Manual_PercentSum[2]/totalDays,wholeday_Auto_PercentSum[2]/totalDays],\n",
    "\n",
    "# '16':[wholeday_Manual_PercentSum[3]/totalDays,wholeday_Auto_PercentSum[3]/totalDays],\n",
    "\n",
    "# '17':[wholeday_Manual_PercentSum[4]/totalDays,wholeday_Auto_PercentSum[4]/totalDays],\n",
    "\n",
    "# '18':[wholeday_Manual_PercentSum[5]/totalDays,wholeday_Auto_PercentSum[5]/totalDays],\n",
    " \n",
    "# }\n",
    "\n",
    "# result_df = pd.DataFrame(result, index =['Manual Mode', 'Auto Mode'])\n",
    "# result_df\n",
    "# result_df.to_csv('Results.csv', index=False, header=False)"
   ]
  }
 ],
 "metadata": {
  "kernelspec": {
   "display_name": "Python 3",
   "language": "python",
   "name": "python3"
  },
  "language_info": {
   "codemirror_mode": {
    "name": "ipython",
    "version": 3
   },
   "file_extension": ".py",
   "mimetype": "text/x-python",
   "name": "python",
   "nbconvert_exporter": "python",
   "pygments_lexer": "ipython3",
   "version": "3.6.12"
  }
 },
 "nbformat": 4,
 "nbformat_minor": 4
}
