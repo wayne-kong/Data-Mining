{
 "cells": [
  {
   "cell_type": "code",
   "execution_count": 1,
   "metadata": {},
   "outputs": [
    {
     "ename": "ModuleNotFoundError",
     "evalue": "No module named 'xlwt'",
     "output_type": "error",
     "traceback": [
      "\u001b[1;31m---------------------------------------------------------------------------\u001b[0m",
      "\u001b[1;31mModuleNotFoundError\u001b[0m                       Traceback (most recent call last)",
      "\u001b[1;32m<ipython-input-1-f6c8833b85cb>\u001b[0m in \u001b[0;36m<module>\u001b[1;34m\u001b[0m\n\u001b[0;32m      2\u001b[0m \u001b[1;32mimport\u001b[0m \u001b[0mpandas\u001b[0m \u001b[1;32mas\u001b[0m \u001b[0mpd\u001b[0m\u001b[1;33m\u001b[0m\u001b[1;33m\u001b[0m\u001b[0m\n\u001b[0;32m      3\u001b[0m \u001b[1;32mfrom\u001b[0m \u001b[0mdatetime\u001b[0m \u001b[1;32mimport\u001b[0m \u001b[0mdatetime\u001b[0m\u001b[1;33m\u001b[0m\u001b[1;33m\u001b[0m\u001b[0m\n\u001b[1;32m----> 4\u001b[1;33m \u001b[1;32mimport\u001b[0m \u001b[0mxlwt\u001b[0m\u001b[1;33m\u001b[0m\u001b[1;33m\u001b[0m\u001b[0m\n\u001b[0m\u001b[0;32m      5\u001b[0m \u001b[1;32mfrom\u001b[0m \u001b[0mxlwt\u001b[0m \u001b[1;32mimport\u001b[0m \u001b[0mWorkbook\u001b[0m\u001b[1;33m\u001b[0m\u001b[1;33m\u001b[0m\u001b[0m\n\u001b[0;32m      6\u001b[0m \u001b[1;32mimport\u001b[0m \u001b[0mnumpy\u001b[0m \u001b[1;32mas\u001b[0m \u001b[0mnp\u001b[0m\u001b[1;33m\u001b[0m\u001b[1;33m\u001b[0m\u001b[0m\n",
      "\u001b[1;31mModuleNotFoundError\u001b[0m: No module named 'xlwt'"
     ]
    }
   ],
   "source": [
    "#Importing Libraries\n",
    "import pandas as pd \n",
    "from datetime import datetime\n",
    "import xlwt \n",
    "from xlwt import Workbook \n",
    "import numpy as np\n",
    "import math\n",
    "from sklearn.model_selection import train_test_split\n",
    "from sklearn.preprocessing import StandardScaler"
   ]
  },
  {
   "cell_type": "code",
   "execution_count": 697,
   "metadata": {},
   "outputs": [
    {
     "name": "stderr",
     "output_type": "stream",
     "text": [
      "/opt/anaconda3/lib/python3.8/site-packages/IPython/core/interactiveshell.py:3071: DtypeWarning: Columns (32) have mixed types.Specify dtype option on import or set low_memory=False.\n",
      "  has_raised = await self.run_ast_nodes(code_ast.body, cell_name,\n",
      "/opt/anaconda3/lib/python3.8/site-packages/IPython/core/interactiveshell.py:3071: DtypeWarning: Columns (13,43) have mixed types.Specify dtype option on import or set low_memory=False.\n",
      "  has_raised = await self.run_ast_nodes(code_ast.body, cell_name,\n"
     ]
    }
   ],
   "source": [
    "#Importing datasets\n",
    "\n",
    "#Training data\n",
    "cgm_P1 = pd.read_csv('CGMData.csv')\n",
    "ins_P1 = pd.read_csv('InsulinData.csv')\n"
   ]
  },
  {
   "cell_type": "code",
   "execution_count": 698,
   "metadata": {},
   "outputs": [],
   "source": [
    "#Getting tm times:\n",
    "def get_tm_times(ins_df):\n",
    "    tm_list_date = []\n",
    "    tm_list_time = []\n",
    "    tm_list_row = []\n",
    "\n",
    "    for i in range(len(ins_df),0,-1):\n",
    "        if(np.isnan(ins_df.loc[i-1,\"BWZ Carb Input (grams)\"]) == False): #Searching \"Y\" column for non NAN values\n",
    "            if(i-1 < len(ins_df) - 7): #Catching index out of bounds error\n",
    "                tm_list_date.append(ins_df.loc[i-1+6 ,\"Date\"]) #appending start date (tm - 30min)\n",
    "                tm_list_date.append(ins_df.loc[i-1-24,\"Date\"])#appending end date (2 hours later)\n",
    "\n",
    "                tm_list_time.append(ins_df.loc[i-1+6,\"Time\"]) #appending start time (t - 30min)\n",
    "                tm_list_time.append(ins_df.loc[i-1-24,\"Time\"]) #appending end time (tm + 2hrs)\n",
    "\n",
    "                tm_list_row.append(i-1+6) #appending start row (t - 30min)\n",
    "                tm_list_row.append(i-1-24) #appending end row (tm + 2hrs)\n",
    "        \n",
    "    return tm_list_date, tm_list_time, tm_list_row"
   ]
  },
  {
   "cell_type": "code",
   "execution_count": 699,
   "metadata": {},
   "outputs": [],
   "source": [
    "def indicate_meal_boundaries(tm_list_date, tm_list_time, tm_list_row):\n",
    "    #3 conditions:\n",
    "    meal = False\n",
    "    for i in range(0, len(tm_list_row), 2): \n",
    "        for j in range(1, 25): #Checking next 2 hours for a meal:\n",
    "            if(np.isnan(ins_P1.loc[tm_list_row[i] - j - 6, \"BWZ Carb Input (grams)\"]) == False):\n",
    "                meal = True #There is another meal, so a) condition fails\n",
    "                #Handling condition b)\n",
    "                tm_list_date[i] = ins_P1.loc[tm_list_row[i] - j, \"Date\"] #appending new start date of meal\n",
    "                tm_list_date[i+1] = ins_P1.loc[tm_list_row[i] - j - 30, \"Date\"] #appending new end date of meal\n",
    "\n",
    "                tm_list_time[i] = ins_P1.loc[tm_list_row[i] - j, \"Time\"] #appending new start time of meal\n",
    "                tm_list_time[i+1] = ins_P1.loc[tm_list_row[i] - j - 30, \"Time\"] #appending new end time of meal\n",
    "\n",
    "                tm_list_row[i] = tm_list_row[i] - j #appending new start row of meal\n",
    "                tm_list_row[i+1] = tm_list_row[i] - 30 #appending new end row of meal\n",
    "                break\n",
    "            if(j == 24 and np.isnan(ins_P1.loc[tm_list_row[i] - j - 6, \"BWZ Carb Input (grams)\"]) == False): \n",
    "                #Handling condition c) #18 is tm + 1hr 30min, 48 is tm + hrs\n",
    "                tm_list_date[i] = ins_P1.loc[tm_list_row[i] - j - 18, \"Date\"] #appending new start date of meal\n",
    "                tm_list_date[i+1] = ins_P1.loc[tm_list_row[i] - 48 , \"Date\"] #appending new end date of meal\n",
    "\n",
    "                tm_list_time[i] = ins_P1.loc[tm_list_row[i] - j - 18, \"Time\"] #appending new start time of meal\n",
    "                tm_list_time[i+1] = ins_P1.loc[tm_list_row[i] - 48, \"Time\"] #appending new end time of meal\n",
    "\n",
    "                tm_list_row[i] = tm_list_row[i] - 18 #appending new start row of meal\n",
    "                tm_list_row[i+1] = tm_list_row[i] - 30 #appending new end row of meal\n",
    "    return tm_list_date, tm_list_time, tm_list_row"
   ]
  },
  {
   "cell_type": "code",
   "execution_count": 700,
   "metadata": {},
   "outputs": [],
   "source": [
    "def indicate_no_meal_boundaries(meal_list_date, meal_list_time, meal_list_row, ins_df):\n",
    "    no_meal_list_date = []\n",
    "    no_meal_list_time = []\n",
    "    no_meal_list_row = []\n",
    "    index = len(ins_df) - 1\n",
    "    \n",
    "    j = 0\n",
    "    while(index >= 0 and j < len(meal_list_row)):\n",
    "        if(index > meal_list_row[j] + 24): #No meal and meal time can overlap for first 30 min of meal\n",
    "            if(index - 24 > 0):\n",
    "                no_meal_list_date.append(ins_df.loc[index, \"Date\"]) #appending start of no meal date\n",
    "                no_meal_list_date.append(ins_df.loc[index - 24, \"Date\"]) #appending end of no meal date\n",
    "                no_meal_list_time.append(ins_df.loc[index, \"Time\"]) #appending start of no meal time\n",
    "                no_meal_list_time.append(ins_df.loc[index - 24, \"Time\"]) #appending end of no meal time\n",
    "                no_meal_list_row.append(index) #appending start of no meal row\n",
    "                no_meal_list_row.append(index - 24) #appending end of no meal row\n",
    "                index = index - 24\n",
    "            else:\n",
    "                break\n",
    "        else: #Go to end of meal time\n",
    "            if(meal_list_row[j+1] - 1 - 24 > 0 and j+1 < len(meal_list_row)):\n",
    "                index = meal_list_row[j+1] - 1 #End of meal time\n",
    "                no_meal_list_date.append(ins_df.loc[index, \"Date\"]) #appending start of no meal date\n",
    "                no_meal_list_date.append(ins_df.loc[index - 24, \"Date\"]) #appending end of no meal date\n",
    "                no_meal_list_time.append(ins_df.loc[index, \"Time\"]) #appending start of no meal time\n",
    "                no_meal_list_time.append(ins_df.loc[index - 24, \"Time\"]) #appending end of no meal time\n",
    "                no_meal_list_row.append(index) #appending start of no meal row\n",
    "                no_meal_list_row.append(index - 24) #appending end of no meal row\n",
    "                j = j + 1 #Going to start of next meal\n",
    "            else:\n",
    "                break\n",
    "    return no_meal_list_date, no_meal_list_time, no_meal_list_row"
   ]
  },
  {
   "cell_type": "code",
   "execution_count": 701,
   "metadata": {},
   "outputs": [],
   "source": [
    "def extract_features(meal_list_date, meal_list_time, meal_list_row, no_meal_list_date, no_meal_list_time, no_meal_list_row, cgm_DF):\n",
    "    means = [] #Columns: mean, sd, ground truth value\n",
    "    sds = []\n",
    "    ground_truths = []\n",
    "    \n",
    "    #Collecting cgm data of meals\n",
    "    for i in range(0, len(meal_list_row) - 1, 2):\n",
    "        meal_data = []\n",
    "        j = meal_list_row[i]\n",
    "        while(j != meal_list_row[i+1] and j >= 0):\n",
    "            if(math.isnan(cgm_DF.loc[j, \"Sensor Glucose (mg/dL)\"]) == True):\n",
    "                pass\n",
    "                #nan value, so don't append it\n",
    "            else:\n",
    "                meal_data.append(cgm_DF.loc[j, \"Sensor Glucose (mg/dL)\"])\n",
    "            j = j-1 #decrementing j\n",
    "            \n",
    "        #Getting mean and sd of set of data and ground truth\n",
    "        if(len(meal_data) > 0):\n",
    "            mean = float(sum(meal_data) / len(meal_data))\n",
    "            sd = np.std(meal_data, ddof=0)\n",
    "            means.append(mean)\n",
    "            sds.append(sd)\n",
    "            ground_truths.append(1) #1 equals meal and 0 equals no meal\n",
    "    \n",
    "    #Collecting cgm value data of no meals\n",
    "    for i in range(0, len(no_meal_list_row) - 1, 2):\n",
    "        no_meal_data = []\n",
    "        j = no_meal_list_row[i]\n",
    "        while(j != no_meal_list_row[i+1] and j >= 0):\n",
    "            if(math.isnan(cgm_DF.loc[j, \"Sensor Glucose (mg/dL)\"]) == True):\n",
    "                pass\n",
    "                #nan value, so don't append it\n",
    "            else:\n",
    "                no_meal_data.append(cgm_DF.loc[j, \"Sensor Glucose (mg/dL)\"])\n",
    "            j = j-1 #decrementing j\n",
    "            \n",
    "        #Getting mean and sd of set of data and ground truth\n",
    "        if(len(no_meal_data) > 0):\n",
    "            mean = float(sum(no_meal_data) / len(no_meal_data))\n",
    "            sd = np.std(no_meal_data, ddof=0)\n",
    "            means.append(mean)\n",
    "            sds.append(sd)\n",
    "            ground_truths.append(0) #1 equals meal and 0 equals no meal\n",
    "    \n",
    "    return means, sds, ground_truths"
   ]
  },
  {
   "cell_type": "code",
   "execution_count": 702,
   "metadata": {},
   "outputs": [],
   "source": [
    "def create_features_df(means,sds,ground_truths):\n",
    "    #creating feature dataframe\n",
    "    data = {'mean': means,\n",
    "            'sd': sds,\n",
    "            'ground_truth': ground_truths\n",
    "            }\n",
    "    \n",
    "    features_df = pd.DataFrame(data, columns = ['mean','sd', 'ground_truth'])\n",
    "    \n",
    "    return features_df"
   ]
  },
  {
   "cell_type": "code",
   "execution_count": 703,
   "metadata": {},
   "outputs": [],
   "source": [
    "def data_preprocessing(features_df):\n",
    "    x = features_df.iloc[:,0:2].values #Independent variables\n",
    "    y = features_df.iloc[:,2].values #Dependent variable \n",
    "  \n",
    "    #splitting values into dependent and independent variables\n",
    "    x_train, x_test, y_train, y_test = train_test_split(x,y, test_size = 0.20, random_state = 0)\n",
    "    \n",
    "    #normalizing values\n",
    "    scaler = StandardScaler()\n",
    "    x_train = scaler.fit_transform(x_train)\n",
    "    x_test = scaler.transform(x_test)\n",
    "\n",
    "    return x_train, y_train, x_test, y_test"
   ]
  },
  {
   "cell_type": "code",
   "execution_count": 704,
   "metadata": {},
   "outputs": [],
   "source": [
    "def classification_model(x_train, y_train, x_test, y_test):\n",
    "    from sklearn.svm import SVC #Using SVM classifier as my machine\n",
    "    from sklearn.metrics import classification_report\n",
    "    from numpy import mean\n",
    "    from numpy import std\n",
    "    from sklearn.model_selection import KFold\n",
    "    from sklearn.model_selection import cross_val_score\n",
    "    \n",
    "    #Fitting data to model\n",
    "    svm_model = SVC(kernel='sigmoid', random_state = 1, class_weight = 'balanced', coef0 =0.0)\n",
    "    svm_model = svm_model.fit(x_train, y_train)\n",
    "    y_pred = svm_model.predict(x_test)\n",
    "    \n",
    "    #Printing out analytics\n",
    "    #print(classification_report(y_test,y_pred))\n",
    "    \n",
    "    #Evaluating model using k-fold cross validation:\n",
    "    cv = KFold(n_splits=10, random_state=1, shuffle=True)\n",
    "    scores = cross_val_score(svm_model, x_train, y_train, scoring ='accuracy', cv = cv, n_jobs = -1)\n",
    "    print('KFold Cross Validation Training data Accuracy: Mean: %.3f Standard Deviation: (%.3f)' % (mean(scores), std(scores)))\n",
    "    \n",
    "    return svm_model"
   ]
  },
  {
   "cell_type": "code",
   "execution_count": 705,
   "metadata": {},
   "outputs": [],
   "source": [
    "def save_model(svm_model):\n",
    "    import pickle\n",
    "    \n",
    "    #Saving model\n",
    "    assignment_2_model_file = \"assignment_2_model.pkl\"  \n",
    "    with open(assignment_2_model_file, 'wb') as file:  \n",
    "        pickle.dump(svm_model, file)\n",
    "    \n",
    "    return"
   ]
  },
  {
   "cell_type": "code",
   "execution_count": 706,
   "metadata": {
    "scrolled": true
   },
   "outputs": [
    {
     "name": "stdout",
     "output_type": "stream",
     "text": [
      "KFold Cross Validation Training data Accuracy: Mean: 0.506 Standard Deviation: (0.033)\n"
     ]
    }
   ],
   "source": [
    "#Driver\n",
    "\n",
    "#Finding tm times\n",
    "tm_list_date, tm_list_time, tm_list_row = get_tm_times(ins_P1)\n",
    "\n",
    "#Finding meal list start and end times\n",
    "meal_list_date, meal_list_time, meal_list_row = indicate_meal_boundaries(tm_list_date, tm_list_time, tm_list_row)\n",
    "\n",
    "#Finding no meal list start and end times\n",
    "no_meal_list_date, no_meal_list_time, no_meal_list_row = indicate_no_meal_boundaries(meal_list_date, meal_list_time, meal_list_row, ins_P1)\n",
    "\n",
    "#Extracting features from meal and no meal data\n",
    "means, sds, ground_truths = extract_features(meal_list_date, meal_list_time, meal_list_row, no_meal_list_date, no_meal_list_time, no_meal_list_row, cgm_P1)\n",
    "\n",
    "#Creating features dataframe as input for ml classification model\n",
    "features_df = create_features_df(means, sds, ground_truths)\n",
    "\n",
    "#Data preprocessing \n",
    "x_train, y_train, x_test, y_test = data_preprocessing(features_df)\n",
    "\n",
    "#Creating classification model\n",
    "svm_model = classification_model(x_train, y_train, x_test, y_test)\n",
    "\n",
    "#Saving model using Pickle Package\n",
    "save_model(svm_model)"
   ]
  },
  {
   "cell_type": "code",
   "execution_count": 707,
   "metadata": {},
   "outputs": [
    {
     "name": "stdout",
     "output_type": "stream",
     "text": [
      "Finished Compiling\n"
     ]
    }
   ],
   "source": [
    "print(\"Finished Compiling\")"
   ]
  }
 ],
 "metadata": {
  "kernelspec": {
   "display_name": "Python 3",
   "language": "python",
   "name": "python3"
  },
  "language_info": {
   "codemirror_mode": {
    "name": "ipython",
    "version": 3
   },
   "file_extension": ".py",
   "mimetype": "text/x-python",
   "name": "python",
   "nbconvert_exporter": "python",
   "pygments_lexer": "ipython3",
   "version": "3.6.12"
  }
 },
 "nbformat": 4,
 "nbformat_minor": 4
}
