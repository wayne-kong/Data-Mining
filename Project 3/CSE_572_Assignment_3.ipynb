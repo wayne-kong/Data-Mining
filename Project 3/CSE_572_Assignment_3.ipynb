{
 "cells": [
  {
   "cell_type": "markdown",
   "metadata": {},
   "source": [
    "## CSE 572 Assignment 3 \n",
    "#### Written By: Sam Steinberg | Graduate Student at Arizona State University"
   ]
  },
  {
   "cell_type": "markdown",
   "metadata": {},
   "source": [
    "*-- START OF FUNCTIONS --*"
   ]
  },
  {
   "cell_type": "code",
   "execution_count": 1,
   "metadata": {},
   "outputs": [],
   "source": [
    "#Getting tm times:\n",
    "def get_tm_times(ins_df):\n",
    "    tm_list_date = []\n",
    "    tm_list_time = []\n",
    "    tm_list_row = []\n",
    "\n",
    "    for i in range(len(ins_df),0,-1):\n",
    "        if(np.isnan(ins_df.loc[i-1,\"BWZ Carb Input (grams)\"]) == False): #Searching \"Y\" column for non NAN values\n",
    "            if(i-1 < len(ins_df) - 7): #Catching index out of bounds error\n",
    "                tm_list_date.append(ins_df.loc[i-1+6 ,\"Date\"]) #appending start date (tm - 30min)\n",
    "                tm_list_date.append(ins_df.loc[i-1-24,\"Date\"])#appending end date (2 hours later)\n",
    "\n",
    "                tm_list_time.append(ins_df.loc[i-1+6,\"Time\"]) #appending start time (t - 30min)\n",
    "                tm_list_time.append(ins_df.loc[i-1-24,\"Time\"]) #appending end time (tm + 2hrs)\n",
    "\n",
    "                tm_list_row.append(i-1+6) #appending start row (t - 30min)\n",
    "                tm_list_row.append(i-1-24) #appending end row (tm + 2hrs)\n",
    "        \n",
    "    return tm_list_date, tm_list_time, tm_list_row"
   ]
  },
  {
   "cell_type": "code",
   "execution_count": 2,
   "metadata": {},
   "outputs": [],
   "source": [
    "def indicate_meal_boundaries(tm_list_date, tm_list_time, tm_list_row):\n",
    "    #3 conditions:\n",
    "    meal = False\n",
    "    for i in range(0, len(tm_list_row), 2): \n",
    "        for j in range(1, 25): #Checking next 2 hours for a meal:\n",
    "            if(np.isnan(ins_P1.loc[tm_list_row[i] - j - 6, \"BWZ Carb Input (grams)\"]) == False):\n",
    "                meal = True #There is another meal, so a) condition fails\n",
    "                #Handling condition b)\n",
    "                tm_list_date[i] = ins_P1.loc[tm_list_row[i] - j, \"Date\"] #appending new start date of meal\n",
    "                tm_list_date[i+1] = ins_P1.loc[tm_list_row[i] - j - 30, \"Date\"] #appending new end date of meal\n",
    "\n",
    "                tm_list_time[i] = ins_P1.loc[tm_list_row[i] - j, \"Time\"] #appending new start time of meal\n",
    "                tm_list_time[i+1] = ins_P1.loc[tm_list_row[i] - j - 30, \"Time\"] #appending new end time of meal\n",
    "\n",
    "                tm_list_row[i] = tm_list_row[i] - j #appending new start row of meal\n",
    "                tm_list_row[i+1] = tm_list_row[i] - 30 #appending new end row of meal\n",
    "                break\n",
    "            if(j == 24 and np.isnan(ins_P1.loc[tm_list_row[i] - j - 6, \"BWZ Carb Input (grams)\"]) == False): \n",
    "                #Handling condition c) #18 is tm + 1hr 30min, 48 is tm + hrs\n",
    "                tm_list_date[i] = ins_P1.loc[tm_list_row[i] - j - 18, \"Date\"] #appending new start date of meal\n",
    "                tm_list_date[i+1] = ins_P1.loc[tm_list_row[i] - 48 , \"Date\"] #appending new end date of meal\n",
    "\n",
    "                tm_list_time[i] = ins_P1.loc[tm_list_row[i] - j - 18, \"Time\"] #appending new start time of meal\n",
    "                tm_list_time[i+1] = ins_P1.loc[tm_list_row[i] - 48, \"Time\"] #appending new end time of meal\n",
    "\n",
    "                tm_list_row[i] = tm_list_row[i] - 18 #appending new start row of meal\n",
    "                tm_list_row[i+1] = tm_list_row[i] - 30 #appending new end row of meal\n",
    "    return tm_list_date, tm_list_time, tm_list_row"
   ]
  },
  {
   "cell_type": "code",
   "execution_count": 3,
   "metadata": {},
   "outputs": [],
   "source": [
    "def extract_features(meal_list_date, meal_list_time, meal_list_row, cgm_DF):\n",
    "    means = [] #Columns: mean, sd, ground truth value\n",
    "    sds = []\n",
    "    ground_truths = []\n",
    "    \n",
    "    #Collecting cgm data of meals\n",
    "    for i in range(0, len(meal_list_row) - 1, 2):\n",
    "        meal_data = []\n",
    "        j = meal_list_row[i]\n",
    "        while(j != meal_list_row[i+1] and j >= 0):\n",
    "            if(math.isnan(cgm_DF.loc[j, \"Sensor Glucose (mg/dL)\"]) == True):\n",
    "                pass\n",
    "                #nan value, so don't append it\n",
    "            else:\n",
    "                meal_data.append(cgm_DF.loc[j, \"Sensor Glucose (mg/dL)\"])\n",
    "            j = j-1 #decrementing j\n",
    "            \n",
    "        #Getting mean and sd of set of data and ground truth\n",
    "        if(len(meal_data) > 0):\n",
    "            mean = float(sum(meal_data) / len(meal_data))\n",
    "            sd = np.std(meal_data, ddof=0)\n",
    "            means.append(mean)\n",
    "            sds.append(sd)\n",
    "            ground_truths.append(1) #1 equals meal and 0 equals no meal\n",
    "            \n",
    "    return means, sds, ground_truths"
   ]
  },
  {
   "cell_type": "code",
   "execution_count": 4,
   "metadata": {},
   "outputs": [],
   "source": [
    "def create_features_df(means,sds,ground_truths):\n",
    "    #creating feature dataframe\n",
    "    data = {'mean': means,\n",
    "            'sd': sds,\n",
    "            'ground_truth': ground_truths\n",
    "            }\n",
    "    \n",
    "    features_df = pd.DataFrame(data, columns = ['mean','sd', 'ground_truth'])\n",
    "    \n",
    "    return features_df"
   ]
  },
  {
   "cell_type": "code",
   "execution_count": 5,
   "metadata": {},
   "outputs": [],
   "source": [
    "#Deriving min (min can't be zero though) and max values of meal intake amount from Y coloumn\n",
    "def find_Min_Max(ins_df):\n",
    "    first_num_found = False\n",
    "    y_list = []\n",
    "    \n",
    "    for i in range(0, len(ins_df)):\n",
    "        if(first_num_found == False and np.isnan(ins_df.loc[i,\"BWZ Carb Input (grams)\"]) == False):\n",
    "            if(ins_df.loc[i,\"BWZ Carb Input (grams)\"] > 0):\n",
    "                minimum = ins_df.loc[i, \"BWZ Carb Input (grams)\"]\n",
    "                maximum = ins_df.loc[i, \"BWZ Carb Input (grams)\"]\n",
    "                first_num_found = True #We have retrieved the first number in the Y column   \n",
    "                y_list.append(ins_df.loc[i, \"BWZ Carb Input (grams)\"])\n",
    "        if(first_num_found == True):\n",
    "            index_val = ins_df.loc[i, \"BWZ Carb Input (grams)\"]\n",
    "            \n",
    "            if(index_val > 0 and np.isnan(index_val) == False ):\n",
    "                y_list.append(index_val)\n",
    "                if(index_val > maximum):\n",
    "                    maximum = index_val\n",
    "                if(index_val < minimum):\n",
    "                    minimum = index_val  \n",
    "    return minimum, maximum, y_list"
   ]
  },
  {
   "cell_type": "code",
   "execution_count": 6,
   "metadata": {},
   "outputs": [],
   "source": [
    "def discretize(minimum, maximum, meal_list_row, y_list):\n",
    "    y_list_discretized = []\n",
    "    \n",
    "    #Finding number of bins\n",
    "    n = int((maximum - minimum) / 20) #Rounding down\n",
    "\n",
    "    #Discritizing y column values based on the n value (in this case, 6):\n",
    "    y_list_discretized = np.digitize(y_list,bins=[20,40,60,80,100]) #We have 6 bins of a range (size) of 20\n",
    "    \n",
    "    return n, y_list_discretized"
   ]
  },
  {
   "cell_type": "code",
   "execution_count": 7,
   "metadata": {},
   "outputs": [],
   "source": [
    "def preprocessing(feature_df):\n",
    "    #Scaling the data to bring all the attributes to a comparable level \n",
    "    scaler = StandardScaler() \n",
    "    X_scaled = scaler.fit_transform(features_df) \n",
    "\n",
    "    # Normalizing the data so that  \n",
    "    # the data approximately follows a Gaussian distribution \n",
    "    X_normalized = normalize(X_scaled) \n",
    "\n",
    "    # Converting the numpy array into a pandas DataFrame \n",
    "    X_normalized = pd.DataFrame(X_normalized) \n",
    "    \n",
    "    #Reducing dimensionality\n",
    "    pca = PCA(n_components = 2) \n",
    "    X_principal = pca.fit_transform(X_normalized) \n",
    "    X_principal = pd.DataFrame(X_principal) \n",
    "    X_principal.columns = ['mean', 'sd'] \n",
    "    #print(X_principal.head()) \n",
    "    \n",
    "    return X_principal"
   ]
  },
  {
   "cell_type": "code",
   "execution_count": 8,
   "metadata": {},
   "outputs": [],
   "source": [
    "def dbscan(X_principal, y_list_discretized):\n",
    "    #Numpy array of all the cluster labels assigned to each data point \n",
    "    db_default = DBSCAN(eps = 0.0639, min_samples = 6).fit(X_principal) #Best: eps = 0.0639, min_samples = 6\n",
    "    labels = db_default.labels_ \n",
    "    #Building labels for color mapping\n",
    "    colors = {} \n",
    "    colors[0] = 'r'\n",
    "    colors[1] = 'g'\n",
    "    colors[2] = 'b'\n",
    "    colors[3] = 'c'\n",
    "    colors[4] = 'y'\n",
    "    colors[5] = 'm'\n",
    "\n",
    "    cvec = [colors[label] for label in labels] \n",
    "\n",
    "    #For the construction of the legend of the plot \n",
    "    r = plt.scatter(X_principal['mean'], X_principal['sd'], color ='r'); \n",
    "    g = plt.scatter(X_principal['mean'], X_principal['sd'], color ='g'); \n",
    "    b = plt.scatter(X_principal['mean'], X_principal['sd'], color ='b'); \n",
    "    c = plt.scatter(X_principal['mean'], X_principal['sd'], color ='c'); \n",
    "    y = plt.scatter(X_principal['mean'], X_principal['sd'], color ='y'); \n",
    "    m = plt.scatter(X_principal['mean'], X_principal['sd'], color ='m'); \n",
    "    \n",
    "    plt.close(1)\n",
    "    \n",
    "    #Plotting mean and sd according to the color vector defined \n",
    "    plt.figure(figsize =(9, 9)) \n",
    "    plt.scatter(X_principal['mean'], X_principal['sd'], c = cvec) \n",
    "    \n",
    "    plt.title('Clusters of Feature Matrix for Carbohydrates in Meals (Normalized)')\n",
    "    plt.xlabel('Mean Normalized')\n",
    "    plt.ylabel('Standard Deviation Normalized')\n",
    "    # Building the legend \n",
    "    plt.legend((r, g, b, c, y, m), ('Bin 0', 'Bin 1', 'Bin 2', 'Bin 3','Bin 4','Bin 5')) \n",
    "    plt.show() \n",
    "\n",
    "    return labels"
   ]
  },
  {
   "cell_type": "code",
   "execution_count": 9,
   "metadata": {},
   "outputs": [],
   "source": [
    "def kmeans(X_principal, y_list_discretized):\n",
    "    #Building kmeans_model\n",
    "    kmeans_model = KMeans(init=\"k-means++\", n_clusters=6, n_init = 75, max_iter=300, random_state=42, algorithm = \"auto\") #init=\"k-means++\", n_clusters=6, n_init = 75, max_iter=300, random_state=42, algorithm = \"auto\"\n",
    "    #Fitting model to data\n",
    "    y_kmeans = kmeans_model.fit_predict(X_principal)\n",
    "    #Retrievinng labels\n",
    "    labels = kmeans_model.labels_\n",
    "    \n",
    "    #Retrieving values of dataframe\n",
    "    X_principal = X_principal.iloc[:, [0, 1]].values\n",
    "    \n",
    "    #Visualising the k-means clusters\n",
    "    plt.scatter(X_principal[y_kmeans == 2, 0], X_principal[y_kmeans == 2, 1], s = 100, c = 'red', label = '0-20')\n",
    "    plt.scatter(X_principal[y_kmeans == 4, 0], X_principal[y_kmeans == 4, 1], s = 100, c = 'blue', label = '20-40')\n",
    "    plt.scatter(X_principal[y_kmeans == 0, 0], X_principal[y_kmeans == 0, 1], s = 100, c = 'green', label = '40-60')\n",
    "    plt.scatter(X_principal[y_kmeans == 1, 0], X_principal[y_kmeans == 1, 1], s = 100, c = 'orange', label = '60-80')\n",
    "    plt.scatter(X_principal[y_kmeans == 3, 0], X_principal[y_kmeans == 3, 1], s = 100, c = 'purple', label = '80-100')\n",
    "    plt.scatter(X_principal[y_kmeans == 5, 0], X_principal[y_kmeans == 5, 1], s = 100, c = 'cyan', label = '100-120')\n",
    "    plt.scatter(kmeans_model.cluster_centers_[:, 0], kmeans_model.cluster_centers_[:, 1], s = 300, c = 'yellow', label = 'Centroids')\n",
    "    plt.title('Clusters of Feature Matrix for Carbohydrates in Meals')\n",
    "    plt.xlabel('Mean')\n",
    "    plt.ylabel('Standard Deviation')\n",
    "    plt.legend()\n",
    "    plt.show()\n",
    "    \n",
    "    return labels"
   ]
  },
  {
   "cell_type": "code",
   "execution_count": 10,
   "metadata": {},
   "outputs": [],
   "source": [
    "def metrics(labels, y_list_discretized):\n",
    "    #Finding SSE\n",
    "    squared_errors = (y_list_discretized - labels)**2\n",
    "    #print(\"SSE Errors :\" + str(squared_errors))\n",
    "    sse = np.sum(squared_errors)\n",
    "    \n",
    "    #Finding Entropy\n",
    "    base = None\n",
    "    value, counts = np.unique(labels, return_counts=True)\n",
    "    entropy_metric = entropy(counts, base = base)\n",
    "    \n",
    "    #Finding Purity\n",
    "    contingency__matrix = contingency_matrix(y_list_discretized, labels)\n",
    "    purity = np.sum(np.amax(contingency__matrix, axis = 0)) / np.sum(contingency__matrix) \n",
    "    \n",
    "    return sse, entropy_metric, purity"
   ]
  },
  {
   "cell_type": "code",
   "execution_count": 11,
   "metadata": {},
   "outputs": [],
   "source": [
    "def create_results_csv(sse_dbscan, entropy_dbscan, purity_dbscan, sse_kmeans, entropy_kmeans, purity_kmeans):\n",
    "    metrics = [sse_kmeans, sse_dbscan, entropy_kmeans, entropy_dbscan, purity_kmeans, purity_dbscan]\n",
    "    \n",
    "    #Creating spreadsheet\n",
    "    wb = Workbook() \n",
    "    #Writing column names:\n",
    "    sheet1 = wb.add_sheet('Results', cell_overwrite_ok=True) \n",
    "    \n",
    "    #Writing column names of excel file:\n",
    "    sheet1.write(0, 0, \"SSE for Kmeans\")\n",
    "    sheet1.write(0, 1, \"SSE for DBSCAN\")\n",
    "    sheet1.write(0, 2, \"Entropy for Kmeans\")\n",
    "    sheet1.write(0, 3, \"Entropy for DBSCAN\")\n",
    "    sheet1.write(0, 4, \"Purity for Kmeans\")\n",
    "    sheet1.write(0, 5, \"Purity for DBSCAN\")\n",
    "    \n",
    "    c = 0\n",
    "    for i in range(0,len(metrics)):\n",
    "        sheet1.write(1,c, str(metrics[i]))\n",
    "        c = c + 1\n",
    "    \n",
    "    #Saving output\n",
    "    wb.save('Results.csv') \n",
    "    return #Return nothing"
   ]
  },
  {
   "cell_type": "markdown",
   "metadata": {},
   "source": [
    " *-- END OF FUNCTIONS --*"
   ]
  },
  {
   "cell_type": "markdown",
   "metadata": {},
   "source": [
    "**DRIVER PROGRAM:**"
   ]
  },
  {
   "cell_type": "code",
   "execution_count": 12,
   "metadata": {},
   "outputs": [],
   "source": [
    "#Importing Libraries\n",
    "import pandas as pd \n",
    "import numpy as np\n",
    "import math\n",
    "from sklearn.model_selection import train_test_split\n",
    "from sklearn.preprocessing import StandardScaler\n",
    "from sklearn.cluster import DBSCAN \n",
    "from sklearn.preprocessing import normalize \n",
    "from sklearn.decomposition import PCA \n",
    "import matplotlib.pyplot as plt \n",
    "from sklearn.cluster import KMeans\n",
    "from scipy.stats import entropy\n",
    "from sklearn.metrics.cluster import contingency_matrix as contingency_matrix\n",
    "# import xlwt \n",
    "# from xlwt import Workbook "
   ]
  },
  {
   "cell_type": "code",
   "execution_count": 13,
   "metadata": {},
   "outputs": [
    {
     "name": "stderr",
     "output_type": "stream",
     "text": [
      "C:\\Users\\wayne\\anaconda3\\envs\\py36_cse572\\lib\\site-packages\\IPython\\core\\interactiveshell.py:3072: DtypeWarning: Columns (13,43) have mixed types. Specify dtype option on import or set low_memory=False.\n",
      "  interactivity=interactivity, compiler=compiler, result=result)\n",
      "C:\\Users\\wayne\\anaconda3\\envs\\py36_cse572\\lib\\site-packages\\IPython\\core\\interactiveshell.py:3072: DtypeWarning: Columns (32) have mixed types. Specify dtype option on import or set low_memory=False.\n",
      "  interactivity=interactivity, compiler=compiler, result=result)\n"
     ]
    }
   ],
   "source": [
    "#Importing Dataset\n",
    "ins_P1 = pd.read_csv('InsulinData.csv')\n",
    "cgm_P1 = pd.read_csv('CGMData.csv')\n",
    "ins_P1 = pd.read_csv('InsulinData.csv')"
   ]
  },
  {
   "cell_type": "code",
   "execution_count": 14,
   "metadata": {
    "scrolled": true
   },
   "outputs": [
    {
     "name": "stdout",
     "output_type": "stream",
     "text": [
      "Minimum: 3.0\n",
      "Maximum: 129.0\n",
      "\n",
      "Number of bins: 6\n",
      "\n"
     ]
    },
    {
     "data": {
      "image/png": "[encoded data removed]",
      "text/plain": [
       "<Figure size 648x648 with 1 Axes>"
      ]
     },
     "metadata": {
      "needs_background": "light"
     },
     "output_type": "display_data"
    },
    {
     "name": "stdout",
     "output_type": "stream",
     "text": [
      "DBSCAN LABELS: \n",
      "[0 0 0 1 1 0 0 0 2 0 0 0 0 0 0 0 0 3 3 1 1 0 2 0 0 0 0 0 2 0 0 2 0 0 1 0 0\n",
      " 0 0 3 3 0 0 0 0 0 3 3 2 3 3 3 3 3 0 0 0 0 0 0 0 0 0 3 3 3 3 3 3 2 2 0 0 0\n",
      " 0 3 3 3 0 3 3 3 3 0 0 2 2 0 0 0 0 0 0 3 3 0 2 3 0 1 1 1 0 3 0 3 3 0 0 0 0\n",
      " 0 0 0 0 0 3 0 0 0 3 0 0 3 3 0 0 0 3 3 0 0 0 0 0 0 0 3 1 1 0 3 3 0 0 0 0 3\n",
      " 3 0 0 0 0 3 2 2 2 0 0 0 0 0 0 3 3 3 3 3 0 0 4 0 3 0 0 0 0 3 0 3 0 0 0 3 3\n",
      " 2 3 3 3 3 0 3 3 3 3 3 0 0 0 0 0 0 0 0 0 3 0 0 3 0 1 1 0 0 0 3 0 0 2 3 3 0\n",
      " 2 0 0 0 0 0 0 0 3 0 0 0 3 1 0 0 0 0 3 3 2 2 0 0 0 0 2 0 0 0 3 3 1 1 1 1 5\n",
      " 0 0 3 0 0 0 0 0 5 0 0 3 3 0 0 1 0 3 3 3 0 0 0 3 1 0 0 3 0 0 0 0 2 0 3 3 2\n",
      " 3 3 3 0 0 2 2 3 3 0 0 0 0 3 3 0 0 0 3 2 3 0 1 1 1 3 0 0 0 0 0 0 0 3 5 5 0\n",
      " 0 0 3 3 3 0 0 5 5 5 0 2 3 1 4 3 0 3 0 0 0 3 0 0 0 0 4 0 0 0 5 0 0 0 0 0 0\n",
      " 3 3 0 0 0 0 0 0 2 0 3 3 2 1 1 0 0 0 3 3 3 0 0 1 1 1 3 3 1 3 3 3 2 3 3 2 0\n",
      " 3 3 3 3 0 0 4 1 1 2 2 3 0 0 4 4 3 3 0 0 0 0 3 3 3 3 3 0 0 0 0 0 0 0 0 3 3\n",
      " 0 0 3 0 0 0 0 3 1 3 3 2 0 0 0 0 0 3 3 3 1 3 3 0 0 3 3 3 3 0 0 3 0 0 0 0 0\n",
      " 0 0 3 1 3 0 0 0 0 0 0 0 0 3 0 0 0 0 0 0 3 1 3 2 0 0 0 0 3 3 0 0 2 0 0 0 0\n",
      " 0 0 0 0 0 0 2 1 0 1 1 1 0 3 3 0 3 3 0 0 0 0 3 3 3 0 0 0 0 0 0 2 0 0 0 0 0\n",
      " 0 0 0 0 0 0 0 0 0 2 0 0 0 0 0 3 2 0 0 0 0 5 0 0 0 3 3 0 1 1 3 0 0 0 3 0 0\n",
      " 0 0 3 0 0 0 0 3 0 0 0 0 3 0 0 0 0 3 3 0 0 0 0 0 0 0 0 0 0 0 0 0 0 0 3 3 3\n",
      " 3 0 0 0 0 3 0 3 3 3 0 0 0 3 3 1 0 1 1 0 0 3 3 3 1 0 0 0 0 0 3 3 0 1 3 3 0\n",
      " 0 0 0 0 0 3 3 0 3 3 3 0 0 0 0 3 3 0 0 0 0 2 0 0 2 3 3 0 3 3 3 0 1 1 0 0 0\n",
      " 0 4 0 0 0 3 1 1 0 0 2 0 0 3 3 3 1 1 3 3 0 2 2 0 0 0 0 0 0 0 0 3 0 0 0 3 3\n",
      " 3 0 0 0 0 0 0 0]\n",
      "DBSCAN SSE: 2983\n",
      "DBSCAN Entropy: 1.1182457982615095\n",
      "DBSCAN Purity: 0.3235294117647059\n",
      "\n"
     ]
    },
    {
     "data": {
      "image/png": "[encoded data removed]",
      "text/plain": [
       "<Figure size 432x288 with 1 Axes>"
      ]
     },
     "metadata": {
      "needs_background": "light"
     },
     "output_type": "display_data"
    },
    {
     "name": "stdout",
     "output_type": "stream",
     "text": [
      "Kmeans SSE: 2772\n",
      "Kmeans Entropy: 1.5676043739536658\n",
      "Kmeans Purity: 0.32887700534759357\n"
     ]
    },
    {
     "ename": "NameError",
     "evalue": "name 'Workbook' is not defined",
     "output_type": "error",
     "traceback": [
      "\u001b[1;31m---------------------------------------------------------------------------\u001b[0m",
      "\u001b[1;31mNameError\u001b[0m                                 Traceback (most recent call last)",
      "\u001b[1;32m<ipython-input-14-0689b12586f6>\u001b[0m in \u001b[0;36m<module>\u001b[1;34m\u001b[0m\n\u001b[0;32m     61\u001b[0m \u001b[1;33m\u001b[0m\u001b[0m\n\u001b[0;32m     62\u001b[0m \u001b[1;31m#Writing results to .csv file:\u001b[0m\u001b[1;33m\u001b[0m\u001b[1;33m\u001b[0m\u001b[1;33m\u001b[0m\u001b[0m\n\u001b[1;32m---> 63\u001b[1;33m \u001b[0mcreate_results_csv\u001b[0m\u001b[1;33m(\u001b[0m\u001b[0msse_dbscan\u001b[0m\u001b[1;33m,\u001b[0m\u001b[0mentropy_dbscan\u001b[0m\u001b[1;33m,\u001b[0m \u001b[0mpurity_dbscan\u001b[0m\u001b[1;33m,\u001b[0m \u001b[0msse_kmeans\u001b[0m\u001b[1;33m,\u001b[0m \u001b[0mentropy_kmeans\u001b[0m\u001b[1;33m,\u001b[0m \u001b[0mpurity_kmeans\u001b[0m\u001b[1;33m)\u001b[0m\u001b[1;33m\u001b[0m\u001b[1;33m\u001b[0m\u001b[0m\n\u001b[0m",
      "\u001b[1;32m<ipython-input-11-4a7561e977e1>\u001b[0m in \u001b[0;36mcreate_results_csv\u001b[1;34m(sse_dbscan, entropy_dbscan, purity_dbscan, sse_kmeans, entropy_kmeans, purity_kmeans)\u001b[0m\n\u001b[0;32m      3\u001b[0m \u001b[1;33m\u001b[0m\u001b[0m\n\u001b[0;32m      4\u001b[0m     \u001b[1;31m#Creating spreadsheet\u001b[0m\u001b[1;33m\u001b[0m\u001b[1;33m\u001b[0m\u001b[1;33m\u001b[0m\u001b[0m\n\u001b[1;32m----> 5\u001b[1;33m     \u001b[0mwb\u001b[0m \u001b[1;33m=\u001b[0m \u001b[0mWorkbook\u001b[0m\u001b[1;33m(\u001b[0m\u001b[1;33m)\u001b[0m\u001b[1;33m\u001b[0m\u001b[1;33m\u001b[0m\u001b[0m\n\u001b[0m\u001b[0;32m      6\u001b[0m     \u001b[1;31m#Writing column names:\u001b[0m\u001b[1;33m\u001b[0m\u001b[1;33m\u001b[0m\u001b[1;33m\u001b[0m\u001b[0m\n\u001b[0;32m      7\u001b[0m     \u001b[0msheet1\u001b[0m \u001b[1;33m=\u001b[0m \u001b[0mwb\u001b[0m\u001b[1;33m.\u001b[0m\u001b[0madd_sheet\u001b[0m\u001b[1;33m(\u001b[0m\u001b[1;34m'Results'\u001b[0m\u001b[1;33m,\u001b[0m \u001b[0mcell_overwrite_ok\u001b[0m\u001b[1;33m=\u001b[0m\u001b[1;32mTrue\u001b[0m\u001b[1;33m)\u001b[0m\u001b[1;33m\u001b[0m\u001b[1;33m\u001b[0m\u001b[0m\n",
      "\u001b[1;31mNameError\u001b[0m: name 'Workbook' is not defined"
     ]
    }
   ],
   "source": [
    "#Finding tm times\n",
    "tm_list_date, tm_list_time, tm_list_row = get_tm_times(ins_P1)\n",
    "\n",
    "#Finding meal list start and end times\n",
    "meal_list_date, meal_list_time, meal_list_row = indicate_meal_boundaries(tm_list_date, tm_list_time, tm_list_row)\n",
    "    \n",
    "#Extracting features from meal and no meal data\n",
    "means, sds, ground_truths = extract_features(meal_list_date, meal_list_time, meal_list_row, cgm_P1)\n",
    "#Making features same length as y-column for clustering algorithm:\n",
    "means = means[:len(means) - 274]\n",
    "sds = sds[:len(sds) - 274]\n",
    "ground_truths = ground_truths[:len(ground_truths) - 274]\n",
    "\n",
    "#Creating features dataframe as input for ml classification model\n",
    "features_df = create_features_df(means, sds, ground_truths)\n",
    "\n",
    "#Making meal data the same length as y-column for clustering algorithm:\n",
    "meal_list_row = meal_list_row[:len(meal_list_row) - 584]\n",
    "\n",
    "#print(features_df)\n",
    "#Finding max and min values\n",
    "minimum, maximum, y_list = find_Min_Max(ins_P1) \n",
    "print(\"Minimum: \" + str(minimum))\n",
    "print(\"Maximum: \" + str(maximum) + \"\\n\")\n",
    "#print(\"y indices length: \")\n",
    "#print(len(y_list))\n",
    "\n",
    "#Discretizing values\n",
    "n, y_list_discretized = discretize(minimum, maximum, meal_list_row, y_list) \n",
    "print(\"Number of bins: \" + str(n) + \"\\n\")\n",
    "#print(\"Ground Truth Labels: \")\n",
    "#print(y_list_discretized)\n",
    "#print(\"y column discretized: \")\n",
    "#print(y_list_discretized) #This is the ground truth values for the meal data \n",
    "#print(\"Meal Boundaries Length: \" + \"\\n\")\n",
    "#print(len(meal_list_row) / 2) #1040\n",
    "\n",
    "#Preprocessing data\n",
    "X_principal = preprocessing(features_df)\n",
    "\n",
    "#Clustring feature matrix using DBSCAN\n",
    "dbscan_label = dbscan(X_principal, y_list_discretized)\n",
    "print(\"DBSCAN LABELS: \")\n",
    "print(dbscan_label)\n",
    "#Retrieving metrics for dbscan algorithm\n",
    "sse_dbscan, entropy_dbscan, purity_dbscan = metrics(dbscan_label, y_list_discretized)\n",
    "print(\"DBSCAN SSE: \" + str(sse_dbscan))\n",
    "print(\"DBSCAN Entropy: \" + str(entropy_dbscan))\n",
    "print(\"DBSCAN Purity: \" + str(purity_dbscan) + \"\\n\")\n",
    "\n",
    "#Clustering feature matrix using KMeans\n",
    "#kmeans_label = kmeans(X_principal, y_list_discretized)\n",
    "kmeans_label = kmeans(features_df, y_list_discretized)\n",
    "#print(\"KMEANS LABELS: \")\n",
    "#print(kmeans_label)\n",
    "#Retrieving metrics for kmeans algorithm\n",
    "sse_kmeans, entropy_kmeans, purity_kmeans = metrics(kmeans_label, y_list_discretized)\n",
    "print(\"Kmeans SSE: \" + str(sse_kmeans))\n",
    "print(\"Kmeans Entropy: \" + str(entropy_kmeans))\n",
    "print(\"Kmeans Purity: \" + str(purity_kmeans))\n",
    "\n",
    "#Writing results to .csv file:\n",
    "create_results_csv(sse_dbscan,entropy_dbscan, purity_dbscan, sse_kmeans, entropy_kmeans, purity_kmeans)"
   ]
  },
  {
   "cell_type": "code",
   "execution_count": null,
   "metadata": {},
   "outputs": [],
   "source": [
    "print(\"DRIVER PROGRAM FINISHED COMPILING.\")"
   ]
  }
 ],
 "metadata": {
  "kernelspec": {
   "display_name": "Python 3",
   "language": "python",
   "name": "python3"
  },
  "language_info": {
   "codemirror_mode": {
    "name": "ipython",
    "version": 3
   },
   "file_extension": ".py",
   "mimetype": "text/x-python",
   "name": "python",
   "nbconvert_exporter": "python",
   "pygments_lexer": "ipython3",
   "version": "3.6.12"
  }
 },
 "nbformat": 4,
 "nbformat_minor": 4
}
